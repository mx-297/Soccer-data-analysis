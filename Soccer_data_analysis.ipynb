{
 "cells": [
  {
   "cell_type": "markdown",
   "id": "1347fade",
   "metadata": {},
   "source": [
    "# Purpose of analysis\n",
    "The purpose of this project is to perform data analysis on Soccer database using pandas and sqlite3 to draw conclusions related to the following questions:\n",
    "\n",
    "1 - What teams improved the most over the time period?<br>\n",
    "2 - Which players improved the most in penalties?<br>\n",
    "3 - What team attributes lead to the most victories?<br>\n",
    "4 - Do rightfoot players have more shot accuracy/power than leftfoot players?<br>\n",
    "5 - What player attributes are associated with higher overall rating/potential?<br>\n",
    "6 - What leagues do most of high rating players play?"
   ]
  },
  {
   "cell_type": "markdown",
   "id": "ec161d42",
   "metadata": {},
   "source": [
    "# MetaData\n",
    "\n",
    "The database contains 8 tables as follows:\n",
    "\n",
    "1 - Country <br>\n",
    "2 - League<br>\n",
    "3 - Players<br>\n",
    "4 - Players' Attributes<br>\n",
    "5 - Teams<br>\n",
    "6 - Teams' Attributes<br>\n",
    "7 - Matches<br>\n",
    "8 - Sqllite sequences<br>\n",
    "\n",
    "All information about each table can be found in this [Kaggle link](https://www.kaggle.com/datasets/hugomathien/soccer?resource=download)"
   ]
  },
  {
   "cell_type": "markdown",
   "id": "7f908304",
   "metadata": {},
   "source": [
    "# Imports"
   ]
  },
  {
   "cell_type": "code",
   "execution_count": 2,
   "id": "d843ae8b",
   "metadata": {},
   "outputs": [],
   "source": [
    "import pandas as pd\n",
    "import sqlite3\n",
    "import numpy as np\n",
    "import matplotlib.pyplot as plt\n",
    "%matplotlib inline"
   ]
  },
  {
   "cell_type": "markdown",
   "id": "7fd6020d",
   "metadata": {},
   "source": [
    "# Creating Dataframes from Soccer database\n",
    "\n",
    "In order to import tables from sqllite into dataframes, we must decide which tables are we interested into. Specifically, we are interested in:<br> \n",
    "\n",
    "1 - Intersection between teams and team attributes tables.<br> \n",
    "2 - Intersection between players and player attributes tables.<br> \n",
    "3 - Intersections between teams and matches tables.<br>\n",
    "4 - Intersection between players and leagues tables."
   ]
  },
  {
   "cell_type": "markdown",
   "id": "d4ed4b02",
   "metadata": {},
   "source": [
    "# Teams table"
   ]
  },
  {
   "cell_type": "code",
   "execution_count": 4,
   "id": "57235ed6",
   "metadata": {},
   "outputs": [],
   "source": [
    "# establishing sql connection\n",
    "\n",
    "conn = sqlite3.connect(\"database.sqlite\") \n",
    "\n",
    "#reading query into pandas\n",
    "\n",
    "sql = pd.read_sql_query(\"SELECT * FROM \")"
   ]
  },
  {
   "cell_type": "code",
   "execution_count": null,
   "id": "58973ae2",
   "metadata": {},
   "outputs": [],
   "source": []
  }
 ],
 "metadata": {
  "kernelspec": {
   "display_name": "Python 3 (ipykernel)",
   "language": "python",
   "name": "python3"
  },
  "language_info": {
   "codemirror_mode": {
    "name": "ipython",
    "version": 3
   },
   "file_extension": ".py",
   "mimetype": "text/x-python",
   "name": "python",
   "nbconvert_exporter": "python",
   "pygments_lexer": "ipython3",
   "version": "3.9.7"
  }
 },
 "nbformat": 4,
 "nbformat_minor": 5
}
